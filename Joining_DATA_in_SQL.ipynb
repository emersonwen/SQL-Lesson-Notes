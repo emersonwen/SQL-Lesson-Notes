{
  "nbformat": 4,
  "nbformat_minor": 0,
  "metadata": {
    "colab": {
      "name": "Joining DATA in SQL.ipynb",
      "provenance": []
    },
    "kernelspec": {
      "name": "python3",
      "display_name": "Python 3"
    }
  },
  "cells": [
    {
      "cell_type": "markdown",
      "metadata": {
        "id": "NNTxR7Za_-cz",
        "colab_type": "text"
      },
      "source": [
        "# Introduction to JOINs\n",
        "## Using INNER JOIN\n",
        "* \"id\" field is also the \"key\" field.  \n",
        "* An INNER JOIN only includes records in which the key is in both tables.\n",
        "* With INNER JOIN we look for matches in the right table corresponding to all entries in the key  field in the left table."
      ]
    },
    {
      "cell_type": "code",
      "metadata": {
        "id": "iz_tz0USLeWI",
        "colab_type": "code",
        "colab": {}
      },
      "source": [
        "SELECT *\n",
        "FROM table_1;"
      ],
      "execution_count": 0,
      "outputs": []
    },
    {
      "cell_type": "markdown",
      "metadata": {
        "id": "293rnMgEAUBV",
        "colab_type": "text"
      },
      "source": [
        "## INNER JOIN in SQL"
      ]
    },
    {
      "cell_type": "code",
      "metadata": {
        "id": "dD1tkxMwATQp",
        "colab_type": "code",
        "colab": {}
      },
      "source": [
        "SELECT p1.country, p1.continent, prime_minister, president\n",
        "FROM prime_ministers AS p1\n",
        "INNER JOIN presidents AS p2\n",
        "ON p1.country = p2.country;"
      ],
      "execution_count": 0,
      "outputs": []
    },
    {
      "cell_type": "code",
      "metadata": {
        "id": "8kbOt-JsGVhq",
        "colab_type": "code",
        "colab": {}
      },
      "source": [
        "-- 1. Select name fields (with alias) and region \n",
        "SELECT cities.name AS city, countries.name AS country, region\n",
        "FROM cities\n",
        "  INNER JOIN countries\n",
        "    ON cities.country_code = countries.code;"
      ],
      "execution_count": 0,
      "outputs": []
    },
    {
      "cell_type": "markdown",
      "metadata": {
        "id": "xDQ0ZiH5GtzW",
        "colab_type": "text"
      },
      "source": [
        "Instead of writing the full table name, you can use table aliasing as a shortcut. For tables you also use `AS` to add the alias immediately after the table name with a space. Check out the aliasing of cities and countries below.\n",
        "```\n",
        "SELECT c1.name AS city, c2.name AS country\n",
        "FROM cities AS c1\n",
        "INNER JOIN countries AS c2\n",
        "ON c1.country_code = c2.code;\n",
        "```\n",
        "Notice that to select a field in your query that appears in multiple tables, you'll need to identify which table/table alias you're referring to by using a `.` in your `SELECT` statement.\n",
        "\n",
        "Sometimes it's easier to write SQL code out of order: you write the `SELECT` statement after you've done the `JOIN`."
      ]
    },
    {
      "cell_type": "code",
      "metadata": {
        "id": "NkGho_XXIBaT",
        "colab_type": "code",
        "colab": {}
      },
      "source": [
        "-- 3. Select fields with aliases\n",
        "SELECT c.code AS country_code, name, year, inflation_rate\n",
        "FROM countries AS c\n",
        "  -- 1. Join to economies (alias e)\n",
        "  INNER JOIN economies AS e\n",
        "    -- 2. Match on code\n",
        "    ON c.code = e.code;"
      ],
      "execution_count": 0,
      "outputs": []
    },
    {
      "cell_type": "markdown",
      "metadata": {
        "id": "U8SuEkBEIVcB",
        "colab_type": "text"
      },
      "source": [
        "The ability to combine multiple joins in a single query is a powerful feature of SQL, e.g:\n",
        "```\n",
        "SELECT *\n",
        "FROM left_table\n",
        "  INNER JOIN right_table\n",
        "    ON left_table.id = right_table.id\n",
        "  INNER JOIN another_table\n",
        "    ON left_table.id = another_table.id;\n",
        "```\n",
        "As you can see here it becomes tedious to continually write long table names in joins. This is when it becomes useful to alias each table using the first letter of its name (e.g. `countries AS c`)! It is standard practice to alias in this way and, if you choose to alias tables or are asked to specifically for an exercise in this course, you should follow this protocol."
      ]
    },
    {
      "cell_type": "code",
      "metadata": {
        "id": "lB_foz6TJkS4",
        "colab_type": "code",
        "colab": {}
      },
      "source": [
        "-- 4. Select fields\n",
        "SELECT c.code, c.name, c.region, p.year, p.fertility_rate\n",
        "  -- 1. From countries (alias as c)\n",
        "  FROM countries AS c\n",
        "  -- 2. Join with populations (as p)\n",
        "  INNER JOIN populations AS p\n",
        "    -- 3. Match on country code\n",
        "    ON c.code = p.country_code"
      ],
      "execution_count": 0,
      "outputs": []
    },
    {
      "cell_type": "markdown",
      "metadata": {
        "id": "AXZUY6M9LNWj",
        "colab_type": "text"
      },
      "source": [
        "## INNER JOIN with USING"
      ]
    },
    {
      "cell_type": "code",
      "metadata": {
        "id": "Maqnbqz1Jli-",
        "colab_type": "code",
        "colab": {}
      },
      "source": [
        "SELECT left_table.id AS L_id, left_table.val AS L_val, right_table.val AS R_val\n",
        "FROM left_table\n",
        "INNER JOIN right_table\n",
        "ON left_table.id = right_table.id;"
      ],
      "execution_count": 0,
      "outputs": []
    },
    {
      "cell_type": "markdown",
      "metadata": {
        "id": "9GfQXEMoLt7Y",
        "colab_type": "text"
      },
      "source": [
        "When the key field you'd like to JOIN ON is the same name in both tables, you can use a `USING` clause instead of the `ON` clause."
      ]
    },
    {
      "cell_type": "code",
      "metadata": {
        "id": "4lKp-fa0L9Kb",
        "colab_type": "code",
        "colab": {}
      },
      "source": [
        "SELECT left_table.id AS L_id, left_table.val AS L_val, right_table.val AS R_val\n",
        "FROM left_table\n",
        "INNER JOIN right_table\n",
        "USING (id);"
      ],
      "execution_count": 0,
      "outputs": []
    },
    {
      "cell_type": "markdown",
      "metadata": {
        "id": "LHdG4gjvS-_N",
        "colab_type": "text"
      },
      "source": [
        "## Self-ish joins, just in CASE\n",
        "### Join prime_ministers to itself\n",
        "The `prime_minsters` table is on both the left and the right. The vital step here is setting the key columns by which we match the table to itself. For each country, we will have a match, if the country in the \"right table\" (that is also '`prime_ministers`') is in the same continent."
      ]
    },
    {
      "cell_type": "code",
      "metadata": {
        "id": "S3KXdJmQTXjG",
        "colab_type": "code",
        "colab": {}
      },
      "source": [
        "SELECT p1.country AS country1, p2.country AS country2, p1.continent\n",
        "FROM prime_ministers AS p1\n",
        "INNER JOIN prime_ministers AS p2\n",
        "ON p1. continent = p2.continent\n",
        "LIMIT 14;"
      ],
      "execution_count": 0,
      "outputs": []
    },
    {
      "cell_type": "markdown",
      "metadata": {
        "id": "84Sf1RVDUfcs",
        "colab_type": "text"
      },
      "source": [
        "Because the resulting table has country names matching itself in a row, we need a way to avoide this redundant row.\n",
        "\n",
        "The `AND` clause can check that multiple conditions are met. Here, a match will not be made between '`prime_ministers`' and itself if the countries match."
      ]
    },
    {
      "cell_type": "code",
      "metadata": {
        "id": "VcJvgV4sVAtR",
        "colab_type": "code",
        "colab": {}
      },
      "source": [
        "SELECT p1.country AS country1, p2.country AS country2, p1.continent\n",
        "FROM prime_ministers AS p1\n",
        "INNER JOIN prime_ministers AS p2\n",
        "ON p1. continent = p2.continent AND p1.country <> p2.country\n",
        "LIMIT 13;"
      ],
      "execution_count": 0,
      "outputs": []
    },
    {
      "cell_type": "markdown",
      "metadata": {
        "id": "bV5I-umuVPwo",
        "colab_type": "text"
      },
      "source": [
        "# Outer joins and cross joins\n",
        "## CASE WHEN and THEN\n",
        "`CASE` is a way to do multiple if-then-else statements in a simplified way in SQL. "
      ]
    },
    {
      "cell_type": "code",
      "metadata": {
        "id": "hIAweyGlVmCs",
        "colab_type": "code",
        "colab": {}
      },
      "source": [
        "\"\"\"This is the basic layout for creating a new field containing the groupings.\"\"\"\n",
        "SELECT name, continent, indep_year,\n",
        "  CASE WHEN _____ < _____ THEN 'before 1900'\n",
        "    WHEN indep_year <= 1930 THEN '____'\n",
        "    ELSE '____' END\n",
        "    AS indep_year_group\n",
        "FROM states\n",
        "ORDER BY indep_year_group;"
      ],
      "execution_count": 0,
      "outputs": []
    },
    {
      "cell_type": "code",
      "metadata": {
        "id": "OyGCQHK4WIQ8",
        "colab_type": "code",
        "colab": {}
      },
      "source": [
        "SELECT name, continent, indep_year,\n",
        "  CASE WHEN indep_year < 1900 THEN 'before 1900'\n",
        "    WHEN indep_year <= 1930 THEN 'between 1900 and 1930'\n",
        "    ELSE 'after 1930' END\n",
        "    AS indep_year_group\n",
        "FROM states\n",
        "ORDER BY indep_year_group;"
      ],
      "execution_count": 0,
      "outputs": []
    },
    {
      "cell_type": "code",
      "metadata": {
        "id": "Rybou5S1bfB3",
        "colab_type": "code",
        "colab": {}
      },
      "source": [
        "SELECT p1.country_code,\n",
        "       p1.size AS size2010, \n",
        "       p2.size AS size2015,\n",
        "       -- 1. calculate growth_perc\n",
        "       ((p2.size - p1.size)/p1.size * 100.0) AS growth_perc\n",
        "-- 2. From populations (alias as p1)\n",
        "FROM populations AS p1\n",
        "  -- 3. Join to itself (alias as p2)\n",
        "  INNER JOIN populations AS p2\n",
        "    -- 4. Match on country code\n",
        "    ON p1.country_code = p2.country_code\n",
        "        -- 5. and year (with calculation)\n",
        "        AND p1.year = p2.year - 5;"
      ],
      "execution_count": 0,
      "outputs": []
    },
    {
      "cell_type": "code",
      "metadata": {
        "id": "E4zaY2AAfE_G",
        "colab_type": "code",
        "colab": {}
      },
      "source": [
        "SELECT name, continent, code, surface_area,\n",
        "    CASE WHEN surface_area > 2000000\n",
        "            THEN 'large'\n",
        "       WHEN surface_area > 350000\n",
        "            THEN 'medium'\n",
        "       ELSE 'small' END\n",
        "       AS geosize_group\n",
        "INTO countries_plus\n",
        "FROM countries;"
      ],
      "execution_count": 0,
      "outputs": []
    },
    {
      "cell_type": "code",
      "metadata": {
        "id": "eerEhOg-hbSd",
        "colab_type": "code",
        "colab": {}
      },
      "source": [
        "SELECT country_code, size,\n",
        "  CASE WHEN size > 50000000\n",
        "            THEN 'large'\n",
        "       WHEN size > 1000000\n",
        "            THEN 'medium'\n",
        "       ELSE 'small' END\n",
        "       AS popsize_group\n",
        "INTO pop_plus       \n",
        "FROM populations\n",
        "WHERE year = 2015;\n",
        "\n",
        "-- 5. Select fields\n",
        "SELECT name, continent, geosize_group, popsize_group\n",
        "-- 1. From countries_plus (alias as c)\n",
        "FROM countries_plus AS c\n",
        "  -- 2. Join to pop_plus (alias as p)\n",
        "  INNER JOIN pop_plus AS p\n",
        "    -- 3. Match on country code\n",
        "    ON c.code = p.country_code\n",
        "-- 4. Order the table    \n",
        "ORDER BY geosize_group;"
      ],
      "execution_count": 0,
      "outputs": []
    },
    {
      "cell_type": "markdown",
      "metadata": {
        "id": "cJcmOsPKhq9a",
        "colab_type": "text"
      },
      "source": [
        "## LEFT and RIGHT JOINs\n",
        "Whereas `INNER JOIN` keeps only the records IN both tables, there are three different types of `OUTER JOIN`s:\n",
        "* `LEFT JOIN`\n",
        "* `RIGHT JOIN`\n",
        "* `FULL JOIN`\n",
        "\n",
        "## The syntax of `LEFT JOIN`"
      ]
    },
    {
      "cell_type": "code",
      "metadata": {
        "id": "ISlKqRkjjKIx",
        "colab_type": "code",
        "colab": {}
      },
      "source": [
        "SELECT p1.country, prime_minister, president\n",
        "FROM prime_minister AS p1\n",
        "LEFT JOIN presidents AS p2\n",
        "ON p1.country = p2.country;"
      ],
      "execution_count": 0,
      "outputs": []
    },
    {
      "cell_type": "code",
      "metadata": {
        "id": "Cf7lyt9YmHix",
        "colab_type": "code",
        "colab": {}
      },
      "source": [
        "SELECT c1.name AS city, code, c2.name AS country,\n",
        "       region, city_proper_pop\n",
        "FROM cities AS c1\n",
        "  -- 1. Join right table (with alias)\n",
        "  LEFT JOIN countries AS c2\n",
        "    -- 2. Match on country code\n",
        "    ON c1.country_code = c2.code\n",
        "-- 3. Order by descending country code\n",
        "ORDER BY code DESC;"
      ],
      "execution_count": 0,
      "outputs": []
    },
    {
      "cell_type": "code",
      "metadata": {
        "id": "e0TOiO2KnvvD",
        "colab_type": "code",
        "colab": {}
      },
      "source": [
        "/*\n",
        "5. Select country name AS country, the country's local name,\n",
        "the language name AS language, and\n",
        "the percent of the language spoken in the country\n",
        "*/\n",
        "SELECT c.name AS country, local_name, l.name AS language, percent\n",
        "-- 1. From left table (alias as c)\n",
        "FROM countries AS c\n",
        "  -- 2. Join to right table (alias as l)\n",
        "  LEFT JOIN languages AS l\n",
        "    -- 3. Match on fields\n",
        "    ON c.code = l.code\n",
        "-- 4. Order by descending country\n",
        "ORDER BY country DESC;"
      ],
      "execution_count": 0,
      "outputs": []
    },
    {
      "cell_type": "markdown",
      "metadata": {
        "id": "sHFOToYgjluh",
        "colab_type": "text"
      },
      "source": [
        "## The syntax of `RIGHT JOIN`\n"
      ]
    },
    {
      "cell_type": "code",
      "metadata": {
        "id": "OfvK8Eh6jt2G",
        "colab_type": "code",
        "colab": {}
      },
      "source": [
        "SELECT right_table.id AS R_id, left_table.val AS L_val, right_table.val AS R_val\n",
        "FROM left_table\n",
        "RIGHT JOIN right_table\n",
        "ON left_table.id = right_table.id;"
      ],
      "execution_count": 0,
      "outputs": []
    },
    {
      "cell_type": "code",
      "metadata": {
        "id": "oEyg48CMjt5I",
        "colab_type": "code",
        "colab": {}
      },
      "source": [
        "-- convert this code to use RIGHT JOINs instead of LEFT JOINs\n",
        "/*\n",
        "SELECT cities.name AS city, urbanarea_pop, countries.name AS country,\n",
        "       indep_year, languages.name AS language, percent\n",
        "FROM cities\n",
        "  LEFT JOIN countries\n",
        "    ON cities.country_code = countries.code\n",
        "  LEFT JOIN languages\n",
        "    ON countries.code = languages.code\n",
        "ORDER BY city, language;\n",
        "*/\n",
        "\n",
        "SELECT cities.name AS city, urbanarea_pop, countries.name AS country,\n",
        "       indep_year, languages.name AS language, percent\n",
        "FROM languages\n",
        "  RIGHT JOIN countries\n",
        "    ON countries.code = languages.code\n",
        "  RIGHT JOIN cities\n",
        "    ON cities.country_code = countries.code\n",
        "ORDER BY city, language;"
      ],
      "execution_count": 0,
      "outputs": []
    },
    {
      "cell_type": "markdown",
      "metadata": {
        "id": "wS2Z7pVueotg",
        "colab_type": "text"
      },
      "source": [
        "## `FULL JOIN`s\n",
        "\n",
        "A `FULL JOIN` combines a `LEFT JOIN` and a `RIGHT JOIN`."
      ]
    },
    {
      "cell_type": "code",
      "metadata": {
        "id": "y9myaQotf4xu",
        "colab_type": "code",
        "colab": {}
      },
      "source": [
        "SELECT left_table.id AS L_id, right_table.id AS R_id, left_table.val AS L_val, right_table.val AS R_val\n",
        "FROM left_table\n",
        "FULL JOIN right_table\n",
        "USING(id);"
      ],
      "execution_count": 0,
      "outputs": []
    },
    {
      "cell_type": "code",
      "metadata": {
        "id": "ciL9WROsgQmw",
        "colab_type": "code",
        "colab": {}
      },
      "source": [
        "'''Example case of using FULL JOIN'''\n",
        "\n",
        "SELECT p1.country AS pm_co, p2.country AS pres_co, prime_minister, president\n",
        "FROM prime_minister AS p1\n",
        "FULL JOIN presidents AS p2\n",
        "ON p1.country = p2.country;"
      ],
      "execution_count": 0,
      "outputs": []
    },
    {
      "cell_type": "markdown",
      "metadata": {
        "id": "pDINP_gJo4DQ",
        "colab_type": "text"
      },
      "source": [
        "## `CROSS JOIN`\n",
        "\n",
        "`CROSS JOIN`s create all possible combinations of two tables"
      ]
    },
    {
      "cell_type": "code",
      "metadata": {
        "id": "2TRFbMZUphok",
        "colab_type": "code",
        "colab": {}
      },
      "source": [
        "SELECT prime_minister, president\n",
        "FROM prime_ministers AS p1\n",
        "CROSS JOIN presidents AS p2\n",
        "WHERE p1.continent IN ('North America', 'Oceania');"
      ],
      "execution_count": 0,
      "outputs": []
    },
    {
      "cell_type": "markdown",
      "metadata": {
        "id": "Bc4sbhR_uyt3",
        "colab_type": "text"
      },
      "source": [
        "# Set Theory Clauses\n",
        "## `UNION` and `UNION ALL`\n",
        "* `UNION` includes every record in both tables but DOES NOT double count those that are in both tables.\n",
        "* `UNION ALL` includes every record in both tables and DOES replicate those that are in both tables.\n",
        "* `INTERSECT` results in only those records found in both of the two tables.\n",
        "* `EXCEPT` results in only those records in one table BUT NOT the other.\n",
        "\n",
        "The fields included in the operation must be of the same data type since they come back as just a single field. You can't stack a number on top of a character field, in other words.\n"
      ]
    },
    {
      "cell_type": "code",
      "metadata": {
        "id": "s5KkkV20wI0O",
        "colab_type": "code",
        "colab": {}
      },
      "source": [
        "SELECT prime_minister AS leader, country\n",
        "FROM prime_ministers\n",
        "UNION \n",
        "SELECT monarch, country\n",
        "FROM monarchs\n",
        "ORDER BY country;"
      ],
      "execution_count": 0,
      "outputs": []
    },
    {
      "cell_type": "code",
      "metadata": {
        "id": "hqTwDiNt0B88",
        "colab_type": "code",
        "colab": {}
      },
      "source": [
        "-- Select fields from 2010 table\n",
        "SELECT *\n",
        "  -- From 2010 table\n",
        "  FROM economies2010\n",
        "\t-- Set theory clause\n",
        "\tUNION \n",
        "-- Select fields from 2015 table\n",
        "SELECT *\n",
        "  -- From 2015 table\n",
        "  FROM economies2015\n",
        "-- Order by code and year\n",
        "ORDER BY code, year;"
      ],
      "execution_count": 0,
      "outputs": []
    },
    {
      "cell_type": "markdown",
      "metadata": {
        "id": "y4yfyc2826QH",
        "colab_type": "text"
      },
      "source": [
        "## `INTERSECT`\n",
        "Intersect only includes those records common in both tables and fields selected."
      ]
    },
    {
      "cell_type": "code",
      "metadata": {
        "id": "dGT8nwpw3L29",
        "colab_type": "code",
        "colab": {}
      },
      "source": [
        "SELECT id\n",
        "FROM left_one\n",
        "INTERSECT\n",
        "SELECT id\n",
        "FROM right_one;"
      ],
      "execution_count": 0,
      "outputs": []
    },
    {
      "cell_type": "markdown",
      "metadata": {
        "id": "fk_c1fil3reQ",
        "colab_type": "text"
      },
      "source": [
        "### `INTERSECT` on two fields\n",
        "The following code yields no results because `INTERSECT` looks for records in common, not individual key fields like what a `JOIN` does to match."
      ]
    },
    {
      "cell_type": "code",
      "metadata": {
        "id": "6EUmz9GA3L5K",
        "colab_type": "code",
        "colab": {}
      },
      "source": [
        "SELECT country, prime_minister AS leader\n",
        "FROM prime_minister\n",
        "INTERSECT\n",
        "SELECT country, president\n",
        "FROM presidents;"
      ],
      "execution_count": 0,
      "outputs": []
    },
    {
      "cell_type": "markdown",
      "metadata": {
        "id": "vKUCtR347R_X",
        "colab_type": "text"
      },
      "source": [
        "## `EXCEPT`\n",
        "`EXCEPT` allows you to include only the records that are in one table, but not the other."
      ]
    },
    {
      "cell_type": "code",
      "metadata": {
        "id": "bSYRPdcA8TQ5",
        "colab_type": "code",
        "colab": {}
      },
      "source": [
        "SELECT monarch, country\n",
        "FROM monarchs\n",
        "EXCEPT\n",
        "SELECT prime_minister, country\n",
        "FROM prime_ministers;"
      ],
      "execution_count": 0,
      "outputs": []
    },
    {
      "cell_type": "markdown",
      "metadata": {
        "id": "afrslhWH9Ic-",
        "colab_type": "text"
      },
      "source": [
        "## Semi-join and Anti-joins\n",
        "### Intro to subqueries\n",
        "A subquery is just a query that sits inside of another query.\n",
        "\n",
        "The following is an Semi-join:"
      ]
    },
    {
      "cell_type": "code",
      "metadata": {
        "id": "hN90NoZk9cV8",
        "colab_type": "code",
        "colab": {}
      },
      "source": [
        "SELECT president, country, continent\n",
        "FROM presidents\n",
        "WHERE country IN\n",
        "  (SELECT name\n",
        "   FROM states\n",
        "   WHERE indep_year < 1800);"
      ],
      "execution_count": 0,
      "outputs": []
    },
    {
      "cell_type": "code",
      "metadata": {
        "id": "7Slq6t1oA3dU",
        "colab_type": "code",
        "colab": {}
      },
      "source": [
        "-- Select distinct fields\n",
        "SELECT DISTINCT name\n",
        "  -- From languages\n",
        "  FROM languages\n",
        "-- Where in statement\n",
        "WHERE code IN\n",
        "  -- Subquery\n",
        "  (SELECT code\n",
        "  FROM countries\n",
        "WHERE region = 'Middle East')\n",
        "-- Order by name\n",
        "ORDER BY name;"
      ],
      "execution_count": 0,
      "outputs": []
    },
    {
      "cell_type": "markdown",
      "metadata": {
        "id": "CpWeQm44-dTX",
        "colab_type": "text"
      },
      "source": [
        "The following is an Anti-join:"
      ]
    },
    {
      "cell_type": "code",
      "metadata": {
        "id": "Y_dUQss0-jVi",
        "colab_type": "code",
        "colab": {}
      },
      "source": [
        "SELECT president, country, continent\n",
        "FROM presidents\n",
        "WHERE continent LIKE '%America'\n",
        "  AND country NOT IN\n",
        "    (SELECT name\n",
        "     FROM states\n",
        "     WHERE indep_year < 1800);"
      ],
      "execution_count": 0,
      "outputs": []
    },
    {
      "cell_type": "code",
      "metadata": {
        "id": "8_8v9NvNFlvX",
        "colab_type": "code",
        "colab": {}
      },
      "source": [
        "-- Select the city name\n",
        "SELECT name\n",
        "  -- Alias the table where city name resides\n",
        "  FROM cities AS c1\n",
        "  -- Choose only records matching the result of multiple set theory clauses\n",
        "  WHERE country_code IN\n",
        "(\n",
        "    -- Select appropriate field from economies AS e\n",
        "    SELECT e.code\n",
        "    FROM economies AS e\n",
        "    -- Get all additional (unique) values of the field from currencies AS c2  \n",
        "    UNION\n",
        "    SELECT c2.code\n",
        "    FROM currencies AS c2\n",
        "    -- Exclude those appearing in populations AS p\n",
        "    EXCEPT\n",
        "    SELECT p.country_code\n",
        "    FROM populations AS p\n",
        ");"
      ],
      "execution_count": 0,
      "outputs": []
    },
    {
      "cell_type": "markdown",
      "metadata": {
        "id": "MVqVxpqF-h0t",
        "colab_type": "text"
      },
      "source": [
        "# Subqueries\n",
        "## Subqueries inside `WHERE` and `SELECT` clauses\n",
        "\n"
      ]
    },
    {
      "cell_type": "code",
      "metadata": {
        "id": "9WuWpPz-bDkQ",
        "colab_type": "code",
        "colab": {}
      },
      "source": [
        "SELECT name, fert_rate\n",
        "FROM states\n",
        "WHERE continent = 'Asia'\n",
        "  AND fert_rate < \n",
        "    (SELECT AVG(fert_rate)\n",
        "     FROM states);"
      ],
      "execution_count": 0,
      "outputs": []
    },
    {
      "cell_type": "markdown",
      "metadata": {
        "id": "MxdWphn-bCYf",
        "colab_type": "text"
      },
      "source": [
        "## Subqueries inside SELECT clauses \n",
        "\n",
        "Anytime you do a subquery inside a `SELECT` statement like this, you need to give the subquery an alias like '`countries_num`' here. "
      ]
    },
    {
      "cell_type": "code",
      "metadata": {
        "id": "X5bM_-SWbhX1",
        "colab_type": "code",
        "colab": {}
      },
      "source": [
        "SELECT DISTINCT continent,\n",
        "  (SELECT COUNT(*)\n",
        "   FROM states\n",
        "   WHERE prime_ministers.continent = states.continent) AS countries_num\n",
        "FROM prime_ministers;"
      ],
      "execution_count": 0,
      "outputs": []
    },
    {
      "cell_type": "code",
      "metadata": {
        "id": "-m638n6ticPf",
        "colab_type": "code",
        "colab": {}
      },
      "source": [
        "-- Select fields\n",
        "SELECT *\n",
        "  -- From populations\n",
        "  FROM populations\n",
        "-- Where life_expectancy is greater than\n",
        "WHERE life_expectancy >\n",
        "  -- 1.15 * subquery\n",
        "  1.15 * \n",
        "   (SELECT AVG(life_expectancy)\n",
        "    FROM populations\n",
        "    WHERE year = 2015)\n",
        "  AND year = 2015;"
      ],
      "execution_count": 0,
      "outputs": []
    },
    {
      "cell_type": "markdown",
      "metadata": {
        "id": "SI29nE_me81b",
        "colab_type": "text"
      },
      "source": [
        "## Subquery inside `FROM` clause\n",
        "### Build-up"
      ]
    },
    {
      "cell_type": "code",
      "metadata": {
        "id": "1NmtkjRWrpKl",
        "colab_type": "code",
        "colab": {}
      },
      "source": [
        "SELECT continent, MAX(women_parli_perc) AS max_perc\n",
        "FROM states\n",
        "GROUP BY continent\n",
        "ORDER BY continent;"
      ],
      "execution_count": 0,
      "outputs": []
    },
    {
      "cell_type": "markdown",
      "metadata": {
        "id": "1vWuCox2r8R-",
        "colab_type": "text"
      },
      "source": [
        "### Focusing on records in monarchs\n",
        "You can include multiple tables in a '`FROM`' clause by adding a comma between them."
      ]
    },
    {
      "cell_type": "code",
      "metadata": {
        "id": "kwC-_kRGsMwC",
        "colab_type": "code",
        "colab": {}
      },
      "source": [
        "SELECT monarchs.continent\n",
        "FROM monarchs, states\n",
        "WHERE monarchs.continent = states.continent\n",
        "ORDER BY continent;"
      ],
      "execution_count": 0,
      "outputs": []
    },
    {
      "cell_type": "markdown",
      "metadata": {
        "id": "oJCovqMYscf4",
        "colab_type": "text"
      },
      "source": [
        "### Finishing off the subquery"
      ]
    },
    {
      "cell_type": "code",
      "metadata": {
        "id": "ohWoINtTshJp",
        "colab_type": "code",
        "colab": {}
      },
      "source": [
        "SELECT DISTINCT monarchs.continent, subquery.max_perc\n",
        "FROM monarchs, \n",
        "  (SELECT continent, MAX(women_parli_perc) AS max_perc\n",
        "   FROM states\n",
        "   GROUP BY continent) AS subquery\n",
        "WHERE monarchs.continent = subquery.continent\n",
        "ORDER BY continent;"
      ],
      "execution_count": 0,
      "outputs": []
    },
    {
      "cell_type": "code",
      "metadata": {
        "id": "5kaQZ01SshIc",
        "colab_type": "code",
        "colab": {}
      },
      "source": [
        "-- Select fields\n",
        "SELECT name, continent, inflation_rate\n",
        "  -- From countries\n",
        "  FROM countries\n",
        "\t-- Join to economies\n",
        "\tINNER JOIN economies\n",
        "\t-- Match on code\n",
        "\tON countries.code = economies.code\n",
        "  -- Where year is 2015\n",
        "  WHERE year = 2015\n",
        "    -- And inflation rate in subquery (alias as subquery)\n",
        "    AND inflation_rate IN (\n",
        "        SELECT MAX(inflation_rate) AS max_inf\n",
        "        FROM (\n",
        "             SELECT name, continent, inflation_rate\n",
        "             FROM countries\n",
        "             INNER JOIN economies\n",
        "             ON countries.code = economies.code\n",
        "             WHERE year = 2015) AS subquery\n",
        "        GROUP BY continent);"
      ],
      "execution_count": 0,
      "outputs": []
    },
    {
      "cell_type": "code",
      "metadata": {
        "id": "oPPcgCudEymk",
        "colab_type": "code",
        "colab": {}
      },
      "source": [
        "-- Select fields\n",
        "SELECT DISTINCT name, total_investment, imports\n",
        "  -- From table (with alias)\n",
        "  FROM countries AS c\n",
        "    -- Join with table (with alias)\n",
        "    LEFT JOIN economies AS e\n",
        "      -- Match on code\n",
        "      ON (c.code = e.code\n",
        "      -- and code in Subquery\n",
        "        AND c.code IN (\n",
        "          SELECT l.code\n",
        "          FROM languages AS l\n",
        "          WHERE official = 'true'\n",
        "        ) )\n",
        "  -- Where region and year are correct\n",
        "  WHERE region = 'Central America' AND year = 2015\n",
        "-- Order by field\n",
        "ORDER BY name;"
      ],
      "execution_count": 0,
      "outputs": []
    },
    {
      "cell_type": "code",
      "metadata": {
        "id": "UGt--zu4F5hA",
        "colab_type": "code",
        "colab": {}
      },
      "source": [
        "-- Select fields\n",
        "SELECT region, continent, AVG(fertility_rate) AS avg_fert_rate\n",
        "  -- From left table\n",
        "  FROM countries AS c\n",
        "    -- Join to right table\n",
        "    INNER JOIN populations AS p\n",
        "      -- Match on join condition\n",
        "      ON c.code = p.country_code\n",
        "  -- Where specific records matching some condition\n",
        "  WHERE year = 2015\n",
        "-- Group appropriately\n",
        "GROUP BY region, continent\n",
        "-- Order appropriately\n",
        "ORDER BY avg_fert_rate;"
      ],
      "execution_count": 0,
      "outputs": []
    }
  ]
}